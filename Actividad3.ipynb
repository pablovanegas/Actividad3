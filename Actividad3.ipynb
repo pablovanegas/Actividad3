{
 "cells": [
  {
   "cell_type": "markdown",
   "metadata": {},
   "source": [
    "# Capitulo 3"
   ]
  },
  {
   "cell_type": "code",
   "execution_count": 2,
   "metadata": {},
   "outputs": [
    {
     "name": "stdout",
     "output_type": "stream",
     "text": [
      "\n",
      "Datos del empleado:\n",
      "Código: A2\n",
      "Nombres: JUAN\n",
      "Salario Bruto: $35.00\n",
      "Salario Neto: $34.30\n"
     ]
    }
   ],
   "source": [
    "class Empleado:\n",
    "    def __init__(self, codigo, nombres, horas_trabajadas, valor_hora, retencion_fuente):\n",
    "        self.codigo = codigo\n",
    "        self.nombres = nombres\n",
    "        self.horas_trabajadas = horas_trabajadas\n",
    "        self.valor_hora = valor_hora\n",
    "        self.retencion_fuente = retencion_fuente\n",
    "\n",
    "    def calcular_salario_bruto(self):\n",
    "        return self.horas_trabajadas * self.valor_hora\n",
    "\n",
    "    def calcular_salario_neto(self):\n",
    "        salario_bruto = self.calcular_salario_bruto()\n",
    "        return salario_bruto * (1 - self.retencion_fuente / 100)\n",
    "\n",
    "    def mostrar_datos(self):\n",
    "        salario_bruto = self.calcular_salario_bruto()\n",
    "        salario_neto = self.calcular_salario_neto()\n",
    "        print(\"\\nDatos del empleado:\")\n",
    "        print(f\"Código: {self.codigo}\")\n",
    "        print(f\"Nombres: {self.nombres}\")\n",
    "        print(f\"Salario Bruto: ${salario_bruto:,.2f}\")\n",
    "        print(f\"Salario Neto: ${salario_neto:,.2f}\")\n",
    "\n",
    "\n",
    "codigo = input(\"Ingrese el código del empleado: \")\n",
    "nombres = input(\"Ingrese los nombres del empleado: \")\n",
    "horas_trabajadas = float(input(\"Ingrese el número de horas trabajadas al mes: \"))\n",
    "valor_hora = float(input(\"Ingrese el valor de la hora trabajada: \"))\n",
    "retencion_fuente = float(input(\"Ingrese el porcentaje de retención en la fuente (en porcentaje): \"))\n",
    "\n",
    "empleado = Empleado(codigo, nombres, horas_trabajadas, valor_hora, retencion_fuente)\n",
    "empleado.mostrar_datos()\n"
   ]
  },
  {
   "cell_type": "code",
   "execution_count": 1,
   "metadata": {},
   "outputs": [
    {
     "name": "stdout",
     "output_type": "stream",
     "text": [
      "\n",
      "Resultados:\n",
      "Perímetro: 12.00\n",
      "Altura: 3.46\n",
      "Área: 6.93\n"
     ]
    }
   ],
   "source": [
    "import math\n",
    "\n",
    "class TrianguloEquilatero:\n",
    "    def __init__(self, lado):\n",
    "        self.lado = lado\n",
    "\n",
    "    def calcular_perimetro(self):\n",
    "        return 3 * self.lado\n",
    "\n",
    "    def calcular_altura(self):\n",
    "        return (math.sqrt(3) / 2) * self.lado\n",
    "\n",
    "    def calcular_area(self):\n",
    "        return (math.sqrt(3) / 4) * self.lado ** 2\n",
    "\n",
    "    def mostrar_resultados(self):\n",
    "        perimetro = self.calcular_perimetro()\n",
    "        altura = self.calcular_altura()\n",
    "        area = self.calcular_area()\n",
    "        print(\"\\nResultados:\")\n",
    "        print(f\"Perímetro: {perimetro:.2f}\")\n",
    "        print(f\"Altura: {altura:.2f}\")\n",
    "        print(f\"Área: {area:.2f}\")\n",
    "\n",
    "\n",
    "lado = float(input(\"Ingrese el valor del lado del triángulo equilátero: \"))\n",
    "triangulo = TrianguloEquilatero(lado)\n",
    "triangulo.mostrar_resultados()\n"
   ]
  },
  {
   "cell_type": "markdown",
   "metadata": {},
   "source": [
    "# Capitulo 4"
   ]
  },
  {
   "cell_type": "code",
   "execution_count": 2,
   "metadata": {},
   "outputs": [
    {
     "name": "stdout",
     "output_type": "stream",
     "text": [
      "A es menor que B\n"
     ]
    }
   ],
   "source": [
    "class Comparador:\n",
    "    def __init__(self, A, B):\n",
    "        self.A = A\n",
    "        self.B = B\n",
    "\n",
    "    def comparar(self):\n",
    "        if self.A > self.B:\n",
    "            return \"A es mayor que B\"\n",
    "        elif self.A == self.B:\n",
    "            return \"A es igual a B\"\n",
    "        else:\n",
    "            return \"A es menor que B\"\n",
    "\n",
    "    def mostrar_resultado(self):\n",
    "        resultado = self.comparar()\n",
    "        print(resultado)\n",
    "\n",
    "\n",
    "A = float(input(\"Ingrese el valor de A: \"))\n",
    "B = float(input(\"Ingrese el valor de B: \"))\n",
    "\n",
    "comparador = Comparador(A, B)\n",
    "comparador.mostrar_resultado()\n"
   ]
  },
  {
   "cell_type": "code",
   "execution_count": 3,
   "metadata": {},
   "outputs": [
    {
     "name": "stdout",
     "output_type": "stream",
     "text": [
      "\n",
      "Resultados:\n",
      "El estudiante con número de inscripción 5 y nombre daniel debe pagar: $50,000.00\n"
     ]
    }
   ],
   "source": [
    "class Estudiante:\n",
    "    def __init__(self, numero_inscripcion, nombres, patrimonio, estrato_social):\n",
    "        self.numero_inscripcion = numero_inscripcion\n",
    "        self.nombres = nombres\n",
    "        self.patrimonio = patrimonio\n",
    "        self.estrato_social = estrato_social\n",
    "\n",
    "    def calcular_pago_matricula(self):\n",
    "        pago_matricula = 50000  # Valor constante\n",
    "        if self.patrimonio > 2000000 and self.estrato_social > 3:\n",
    "            pago_matricula += 0.03 * self.patrimonio\n",
    "        return pago_matricula\n",
    "\n",
    "    def mostrar_resultados(self):\n",
    "        pago_matricula = self.calcular_pago_matricula()\n",
    "        print(\"\\nResultados:\")\n",
    "        print(f\"El estudiante con número de inscripción {self.numero_inscripcion} y nombre {self.nombres} debe pagar: ${pago_matricula:,.2f}\")\n",
    "\n",
    "\n",
    "numero_inscripcion = input(\"Ingrese el número de inscripción: \")\n",
    "nombres = input(\"Ingrese los nombres del estudiante: \")\n",
    "patrimonio = float(input(\"Ingrese el patrimonio del estudiante: \"))\n",
    "estrato_social = int(input(\"Ingrese el estrato social del estudiante: \"))\n",
    "\n",
    "estudiante = Estudiante(numero_inscripcion, nombres, patrimonio, estrato_social)\n",
    "estudiante.mostrar_resultados()\n"
   ]
  },
  {
   "cell_type": "code",
   "execution_count": 4,
   "metadata": {},
   "outputs": [
    {
     "name": "stdout",
     "output_type": "stream",
     "text": [
      "\n",
      "Resultados:\n",
      "Nombre: camilo\n",
      "Salario mensual: $3,500,000.00\n"
     ]
    }
   ],
   "source": [
    "class Empleado:\n",
    "    def __init__(self, nombre, salario_hora, horas_trabajadas):\n",
    "        self.nombre = nombre\n",
    "        self.salario_hora = salario_hora\n",
    "        self.horas_trabajadas = horas_trabajadas\n",
    "\n",
    "    def calcular_salario_mensual(self):\n",
    "        return self.salario_hora * self.horas_trabajadas\n",
    "\n",
    "    def mostrar_resultados(self):\n",
    "        salario_mensual = self.calcular_salario_mensual()\n",
    "        print(\"\\nResultados:\")\n",
    "        if salario_mensual > 450000:\n",
    "            print(f\"Nombre: {self.nombre}\")\n",
    "            print(f\"Salario mensual: ${salario_mensual:,.2f}\")\n",
    "        else:\n",
    "            print(f\"Nombre: {self.nombre}\")\n",
    "\n",
    "\n",
    "nombre = input(\"Ingrese el nombre del empleado: \")\n",
    "salario_hora = float(input(\"Ingrese el salario básico por hora: \"))\n",
    "horas_trabajadas = float(input(\"Ingrese el número de horas trabajadas en el mes: \"))\n",
    "\n",
    "empleado = Empleado(nombre, salario_hora, horas_trabajadas)\n",
    "empleado.mostrar_resultados()\n",
    "\n"
   ]
  },
  {
   "cell_type": "code",
   "execution_count": 5,
   "metadata": {},
   "outputs": [
    {
     "name": "stdout",
     "output_type": "stream",
     "text": [
      "\n",
      "Resultados:\n",
      "La ecuación tiene dos soluciones complejas: -0.62 + 1.05i y -0.62 - 1.05i\n"
     ]
    }
   ],
   "source": [
    "import math\n",
    "\n",
    "class EcuacionCuadratica:\n",
    "    def __init__(self, A, B, C):\n",
    "        self.A = A\n",
    "        self.B = B\n",
    "        self.C = C\n",
    "\n",
    "    def calcular_discriminante(self):\n",
    "        return self.B**2 - 4 * self.A * self.C\n",
    "\n",
    "    def calcular_soluciones(self):\n",
    "        discriminante = self.calcular_discriminante()\n",
    "        if discriminante > 0:\n",
    "            raiz1 = (-self.B + math.sqrt(discriminante)) / (2 * self.A)\n",
    "            raiz2 = (-self.B - math.sqrt(discriminante)) / (2 * self.A)\n",
    "            return [raiz1, raiz2]\n",
    "        elif discriminante == 0:\n",
    "            raiz_unica = -self.B / (2 * self.A)\n",
    "            return [raiz_unica]\n",
    "        else:\n",
    "            parte_real = -self.B / (2 * self.A)\n",
    "            parte_imaginaria = math.sqrt(-discriminante) / (2 * self.A)\n",
    "            return [f\"{parte_real:.2f} + {parte_imaginaria:.2f}i\", f\"{parte_real:.2f} - {parte_imaginaria:.2f}i\"]\n",
    "\n",
    "    def mostrar_resultados(self):\n",
    "        soluciones = self.calcular_soluciones()\n",
    "        print(\"\\nResultados:\")\n",
    "        if len(soluciones) == 2 and isinstance(soluciones[0], float):\n",
    "            print(f\"La ecuación tiene dos solsuciones reales: {soluciones[0]:.2f} y {soluciones[1]:.2f}\")\n",
    "        elif len(soluciones) == 1:\n",
    "            print(f\"La ecuación tiene una única solución real: {soluciones[0]:.2f}\")\n",
    "        else:\n",
    "            print(f\"La ecuación tiene dos soluciones complejas: {soluciones[0]} y {soluciones[1]}\")\n",
    "\n",
    "\n",
    "A = float(input(\"Ingrese el valor de A (coeficiente cuadrático): \"))\n",
    "B = float(input(\"Ingrese el valor de B (coeficiente lineal): \"))\n",
    "C = float(input(\"Ingrese el valor de C (término independiente): \"))\n",
    "\n",
    "ecuacion = EcuacionCuadratica(A, B, C)\n",
    "ecuacion.mostrar_resultados()\n"
   ]
  },
  {
   "cell_type": "code",
   "execution_count": 7,
   "metadata": {},
   "outputs": [
    {
     "name": "stdout",
     "output_type": "stream",
     "text": [
      "Círculo:\n",
      "Área: 78.54\n",
      "Perímetro: 31.42\n",
      "\n",
      "Rectángulo:\n",
      "Área: 28.00\n",
      "Perímetro: 22.00\n",
      "\n",
      "Cuadrado:\n",
      "Área: 9.00\n",
      "Perímetro: 12.00\n",
      "\n",
      "Triángulo Rectángulo:\n",
      "Área: 6.00\n",
      "Perímetro: 12.00\n",
      "Hipotenusa: 5.00\n",
      "Tipo: Escaleno\n",
      "\n"
     ]
    }
   ],
   "source": [
    "import math\n",
    "\n",
    "class FiguraGeometrica:\n",
    "    def calcular_area(self):\n",
    "        raise NotImplementedError(\"Este método debe ser implementado por una subclase.\")\n",
    "\n",
    "    def calcular_perimetro(self):\n",
    "        raise NotImplementedError(\"Este método debe ser implementado por una subclase.\")\n",
    "\n",
    "\n",
    "class Circulo(FiguraGeometrica):\n",
    "    def __init__(self, radio):\n",
    "        self.radio = radio\n",
    "\n",
    "    def calcular_area(self):\n",
    "        return math.pi * self.radio**2\n",
    "\n",
    "    def calcular_perimetro(self):\n",
    "        return 2 * math.pi * self.radio\n",
    "\n",
    "\n",
    "class Rectangulo(FiguraGeometrica):\n",
    "    def __init__(self, base, altura):\n",
    "        self.base = base\n",
    "        self.altura = altura\n",
    "\n",
    "    def calcular_area(self):\n",
    "        return self.base * self.altura\n",
    "\n",
    "    def calcular_perimetro(self):\n",
    "        return 2 * (self.base + self.altura)\n",
    "\n",
    "\n",
    "class Cuadrado(FiguraGeometrica):\n",
    "    def __init__(self, lado):\n",
    "        self.lado = lado\n",
    "\n",
    "    def calcular_area(self):\n",
    "        return self.lado**2\n",
    "\n",
    "    def calcular_perimetro(self):\n",
    "        return 4 * self.lado\n",
    "\n",
    "\n",
    "class TrianguloRectangulo(FiguraGeometrica):\n",
    "    def __init__(self, base, altura):\n",
    "        self.base = base\n",
    "        self.altura = altura\n",
    "\n",
    "    def calcular_area(self):\n",
    "        return (self.base * self.altura) / 2\n",
    "\n",
    "    def calcular_perimetro(self):\n",
    "        return self.base + self.altura + self.calcular_hipotenusa()\n",
    "\n",
    "    def calcular_hipotenusa(self):\n",
    "        return math.sqrt(self.base**2 + self.altura**2)\n",
    "\n",
    "    def determinar_tipo(self):\n",
    "        hipotenusa = self.calcular_hipotenusa()\n",
    "        if self.base == self.altura == hipotenusa:\n",
    "            return \"Equilátero\"\n",
    "        elif self.base == self.altura or self.base == hipotenusa or self.altura == hipotenusa:\n",
    "            return \"Isósceles\"\n",
    "        else:\n",
    "            return \"Escaleno\"\n",
    "\n",
    "\n",
    "if __name__ == \"__main__\":\n",
    "    circulo = Circulo(5)\n",
    "    print(\"Círculo:\")\n",
    "    print(f\"Área: {circulo.calcular_area():.2f}\")\n",
    "    print(f\"Perímetro: {circulo.calcular_perimetro():.2f}\\n\")\n",
    "\n",
    "    rectangulo = Rectangulo(4, 7)\n",
    "    print(\"Rectángulo:\")\n",
    "    print(f\"Área: {rectangulo.calcular_area():.2f}\")\n",
    "    print(f\"Perímetro: {rectangulo.calcular_perimetro():.2f}\\n\")\n",
    "\n",
    "    cuadrado = Cuadrado(3)\n",
    "    print(\"Cuadrado:\")\n",
    "    print(f\"Área: {cuadrado.calcular_area():.2f}\")\n",
    "    print(f\"Perímetro: {cuadrado.calcular_perimetro():.2f}\\n\")\n",
    "\n",
    "    triangulo = TrianguloRectangulo(3, 4)\n",
    "    print(\"Triángulo Rectángulo:\")\n",
    "    print(f\"Área: {triangulo.calcular_area():.2f}\")\n",
    "    print(f\"Perímetro: {triangulo.calcular_perimetro():.2f}\")\n",
    "    print(f\"Hipotenusa: {triangulo.calcular_hipotenusa():.2f}\")\n",
    "    print(f\"Tipo: {triangulo.determinar_tipo()}\\n\")\n"
   ]
  }
 ],
 "metadata": {
  "kernelspec": {
   "display_name": "Python 3",
   "language": "python",
   "name": "python3"
  },
  "language_info": {
   "codemirror_mode": {
    "name": "ipython",
    "version": 3
   },
   "file_extension": ".py",
   "mimetype": "text/x-python",
   "name": "python",
   "nbconvert_exporter": "python",
   "pygments_lexer": "ipython3",
   "version": "3.12.2"
  }
 },
 "nbformat": 4,
 "nbformat_minor": 2
}
